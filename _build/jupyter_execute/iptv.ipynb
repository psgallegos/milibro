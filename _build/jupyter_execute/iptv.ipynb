{
 "cells": [
  {
   "cell_type": "markdown",
   "id": "01f2117c",
   "metadata": {},
   "source": [
    "# IPTV \n",
    "\n",
    "Sistema para ver canales de televisión o VOD a través de nuestra señal de Internet. Normalmente, los canales de televisión y VOD tradicionales han transmitido su señal para que pueda recibirse con una antena, un satélite o un cable. Pero el IPTV se diferencia gracias a que transmite su señal directamente, mediante Internet, a un aparato instalado en nuestra casa.\n",
    "Con nuestro Compromiso. Logramos que tú obtengas más entretenimiento, pagando menos, con contenido de calidad.\n",
    "\n",
    "### Canales en Vivo\n",
    "\n",
    "+1200 Canales de TV de todos los Géneros, incluidos Canales Premium y Eventos.\n",
    "\n",
    "Con Canales en VivoCon Películas y Series\n",
    "\n",
    "Películas y Series adicionales en formato VOD, en aumento día a día, siempre actualizadas.\n",
    "\n",
    "### Servicio Multidispositivo\n",
    "\n",
    "Puedes disfrutarlo en una amplia gama de dispositivos compatibles como: Smart TV, Android, iOS, Windows, MacOS, MAG, AVOV.\n",
    "\n",
    "Sin Contratos\n",
    "\n",
    "Puedes contratar y renovar cuando lo desees, por períodos de 1, 3, 6 o 12 meses.\n",
    "\n",
    "Ahorrando\n",
    "\n",
    "Disfruta las horas que desees en tu TV, pagando lo justo. Desde ahora diviértete ahorrando.\n",
    "\n",
    "### ¿Cómo funciona iptv?\n",
    "\n",
    "IPTV funciona a través de un App desarrollada la cual es compatible con varios dispositivos. Esta app se conecta a una señal emitida por nuestros servidores los cuales usan el internet para enviar el contenido multimedia el cual usted podrá reproducir y disfrutar."
   ]
  }
 ],
 "metadata": {
  "jupytext": {
   "cell_metadata_filter": "-all",
   "formats": "md:myst",
   "text_representation": {
    "extension": ".md",
    "format_name": "myst",
    "format_version": 0.13,
    "jupytext_version": "1.11.5"
   }
  },
  "kernelspec": {
   "display_name": "Python 3",
   "language": "python",
   "name": "python3"
  },
  "language_info": {
   "codemirror_mode": {
    "name": "ipython",
    "version": 3
   },
   "file_extension": ".py",
   "mimetype": "text/x-python",
   "name": "python",
   "nbconvert_exporter": "python",
   "pygments_lexer": "ipython3",
   "version": "3.10.4"
  },
  "source_map": [
   14
  ]
 },
 "nbformat": 4,
 "nbformat_minor": 5
}